{
  "nbformat": 4,
  "nbformat_minor": 0,
  "metadata": {
    "colab": {
      "provenance": [],
      "collapsed_sections": []
    },
    "kernelspec": {
      "name": "python3",
      "display_name": "Python 3"
    },
    "language_info": {
      "name": "python"
    }
  },
  "cells": [
    {
      "cell_type": "code",
      "execution_count": 1,
      "metadata": {
        "id": "eAcu7h8x_imC"
      },
      "outputs": [],
      "source": [
        "%load_ext autoreload\n",
        "%autoreload 2"
      ]
    },
    {
      "cell_type": "code",
      "source": [
        "from collections import defaultdict, namedtuple\n",
        "import os\n",
        "import csv\n",
        "\n",
        "from google.colab import drive\n",
        "drive.mount('/content/drive', force_remount=True)\n",
        "%cd /content/drive/My\\ Drive/\n",
        "\n",
        "from PIL import Image\n",
        "\n",
        "import torchvision\n",
        "import torch\n",
        "from torch.utils.data import Dataset, DataLoader\n",
        "from torch.utils.data.sampler import SubsetRandomSampler\n",
        "from torch.utils.tensorboard import SummaryWriter\n",
        "\n",
        "from torchvision.transforms import ToTensor\n",
        "\n",
        "import matplotlib.pyplot as plt\n",
        "\n",
        "import numpy as np\n",
        "np.random.seed(229)\n",
        "\n",
        "import pandas as pd\n",
        "\n",
        "from tqdm import tqdm"
      ],
      "metadata": {
        "id": "m1YgSA8MBP9W",
        "colab": {
          "base_uri": "https://localhost:8080/"
        },
        "outputId": "e1d1db15-4087-49c1-d77d-547b3e19917b"
      },
      "execution_count": 4,
      "outputs": [
        {
          "output_type": "stream",
          "name": "stdout",
          "text": [
            "Mounted at /content/drive\n",
            "/content/drive/My Drive\n"
          ]
        }
      ]
    },
    {
      "cell_type": "markdown",
      "source": [
        "# **SETUP:**\n"
      ],
      "metadata": {
        "id": "0Z9d0ap4DqY9"
      }
    },
    {
      "cell_type": "markdown",
      "source": [
        "## Set up ImageDataset class to get image input"
      ],
      "metadata": {
        "id": "tFubtCagHqbc"
      }
    },
    {
      "cell_type": "code",
      "source": [
        "class ImageDataset(Dataset):\n",
        "    def __init__(self, img_dir, transform, data_dir):\n",
        "        self.img_dir = img_dir\n",
        "        self.transform = transform\n",
        "        self.data_dir = data_dir\n",
        "        self.data = []\n",
        "\n",
        "        self.imgs = []\n",
        "\n",
        "        self.one_hot_labels = []\n",
        "\n",
        "        self.data = pd.read_csv(self.data_dir, names=['filename', 'label'], sep=' ')\n",
        "\n",
        "        for idx, d in tqdm(self.data.iterrows()):\n",
        "          filename, label = d['filename'], d['label']\n",
        "\n",
        "          try:\n",
        "            image = Image.open(os.path.join(self.img_dir,filename)).convert(\"RGB\")\n",
        "          except FileNotFoundError:\n",
        "            self.data = self.data.drop(idx)\n",
        "          else:\n",
        "            self.imgs.append((filename, image))\n",
        "            one_hot_label = np.array([int(i == label) for i in range(30)])\n",
        "            self.one_hot_labels.append(one_hot_label)\n",
        "                        \n",
        "    def __len__(self):\n",
        "        \"\"\"Return the length of the dataset—how many images there are, total.\"\"\"\n",
        "        return len(self.imgs)\n",
        "\n",
        "    def get_one_hot_labels(self):\n",
        "      return self.one_hot_labels\n",
        "\n",
        "    def get_one_hot_label(self, idx):\n",
        "      return self.one_hot_labels[idx]\n",
        "\n",
        "    def get_data(self, idx):\n",
        "      return self.data.iloc[idx]\n",
        "        \n",
        "    def get_image(self, idx):\n",
        "        \"\"\"Returns the image at this index.\"\"\"\n",
        "        return self.imgs[idx]\n",
        "\n",
        "    def get_label(self, idx):\n",
        "        \"\"\"Given an index, return the ground truth label for that index.\"\"\"\n",
        "        return self.one_hot_labels[idx]\n",
        "        # return self.data[idx]['label']\n",
        "    \n",
        "    def __getitem__(self, idx):\n",
        "        \"\"\"Return the image and label at a given index\"\"\"\n",
        "        tensor_image = self.transform(self.get_image(idx)[1])\n",
        "        label = self.get_label(idx)\n",
        "\n",
        "        return tensor_image, label\n",
        "    \n",
        "    def display(self, idx):\n",
        "        \"\"\"Displays the image at a given index\"\"\"\n",
        "        display(self.get_image(idx)[1])\n",
        "\n"
      ],
      "metadata": {
        "id": "VLhBIyRPDtXj"
      },
      "execution_count": 5,
      "outputs": []
    },
    {
      "cell_type": "markdown",
      "source": [
        "## Create training set"
      ],
      "metadata": {
        "id": "OY9ibDGsHxdu"
      }
    },
    {
      "cell_type": "markdown",
      "source": [
        "Note: change train_set variable to dset for this cell and afterwards for next run\n"
      ],
      "metadata": {
        "id": "CjbqmY9uI7gs"
      }
    },
    {
      "cell_type": "code",
      "source": [
        "img_dir = '224x224'\n",
        "train_data_dir = 'bookcover30-labels-train.csv'\n",
        "train_set = ImageDataset(img_dir, ToTensor(), train_data_dir)"
      ],
      "metadata": {
        "colab": {
          "base_uri": "https://localhost:8080/"
        },
        "id": "p2Vb8SjBIQcr",
        "outputId": "8e65eda1-8d81-4b8c-f645-f7945086ce0e"
      },
      "execution_count": null,
      "outputs": [
        {
          "output_type": "stream",
          "name": "stderr",
          "text": [
            "\r0it [00:00, ?it/s]"
          ]
        }
      ]
    },
    {
      "cell_type": "code",
      "source": [
        "# TRAINING DATASET\n",
        "ix = 0\n",
        "train_set.display(ix)\n",
        "print(train_set.get_data(ix))"
      ],
      "metadata": {
        "colab": {
          "base_uri": "https://localhost:8080/",
          "height": 380
        },
        "id": "bjFx54S2Md49",
        "outputId": "935d9950-cf22-42c9-c994-f7fd2aa4bea7"
      },
      "execution_count": 11,
      "outputs": [
        {
          "output_type": "stream",
          "name": "stdout",
          "text": [
            "[]\n"
          ]
        },
        {
          "output_type": "error",
          "ename": "IndexError",
          "evalue": "ignored",
          "traceback": [
            "\u001b[0;31m---------------------------------------------------------------------------\u001b[0m",
            "\u001b[0;31mIndexError\u001b[0m                                Traceback (most recent call last)",
            "\u001b[0;32m<ipython-input-11-ab181e52d8b8>\u001b[0m in \u001b[0;36m<module>\u001b[0;34m\u001b[0m\n\u001b[1;32m      2\u001b[0m \u001b[0mix\u001b[0m \u001b[0;34m=\u001b[0m \u001b[0;36m0\u001b[0m\u001b[0;34m\u001b[0m\u001b[0;34m\u001b[0m\u001b[0m\n\u001b[1;32m      3\u001b[0m \u001b[0mprint\u001b[0m\u001b[0;34m(\u001b[0m\u001b[0mtrain_set\u001b[0m\u001b[0;34m.\u001b[0m\u001b[0mimgs\u001b[0m\u001b[0;34m)\u001b[0m\u001b[0;34m\u001b[0m\u001b[0;34m\u001b[0m\u001b[0m\n\u001b[0;32m----> 4\u001b[0;31m \u001b[0mtrain_set\u001b[0m\u001b[0;34m.\u001b[0m\u001b[0mdisplay\u001b[0m\u001b[0;34m(\u001b[0m\u001b[0mix\u001b[0m\u001b[0;34m)\u001b[0m\u001b[0;34m\u001b[0m\u001b[0;34m\u001b[0m\u001b[0m\n\u001b[0m\u001b[1;32m      5\u001b[0m \u001b[0mprint\u001b[0m\u001b[0;34m(\u001b[0m\u001b[0mtrain_set\u001b[0m\u001b[0;34m.\u001b[0m\u001b[0mget_data\u001b[0m\u001b[0;34m(\u001b[0m\u001b[0mix\u001b[0m\u001b[0;34m)\u001b[0m\u001b[0;34m)\u001b[0m\u001b[0;34m\u001b[0m\u001b[0;34m\u001b[0m\u001b[0m\n",
            "\u001b[0;32m<ipython-input-7-5af7e6d1fada>\u001b[0m in \u001b[0;36mdisplay\u001b[0;34m(self, idx)\u001b[0m\n\u001b[1;32m     54\u001b[0m     \u001b[0;32mdef\u001b[0m \u001b[0mdisplay\u001b[0m\u001b[0;34m(\u001b[0m\u001b[0mself\u001b[0m\u001b[0;34m,\u001b[0m \u001b[0midx\u001b[0m\u001b[0;34m)\u001b[0m\u001b[0;34m:\u001b[0m\u001b[0;34m\u001b[0m\u001b[0;34m\u001b[0m\u001b[0m\n\u001b[1;32m     55\u001b[0m         \u001b[0;34m\"\"\"Displays the image at a given index\"\"\"\u001b[0m\u001b[0;34m\u001b[0m\u001b[0;34m\u001b[0m\u001b[0m\n\u001b[0;32m---> 56\u001b[0;31m         \u001b[0mdisplay\u001b[0m\u001b[0;34m(\u001b[0m\u001b[0mself\u001b[0m\u001b[0;34m.\u001b[0m\u001b[0mget_image\u001b[0m\u001b[0;34m(\u001b[0m\u001b[0midx\u001b[0m\u001b[0;34m)\u001b[0m\u001b[0;34m[\u001b[0m\u001b[0;36m1\u001b[0m\u001b[0;34m]\u001b[0m\u001b[0;34m)\u001b[0m\u001b[0;34m\u001b[0m\u001b[0;34m\u001b[0m\u001b[0m\n\u001b[0m\u001b[1;32m     57\u001b[0m \u001b[0;34m\u001b[0m\u001b[0m\n",
            "\u001b[0;32m<ipython-input-7-5af7e6d1fada>\u001b[0m in \u001b[0;36mget_image\u001b[0;34m(self, idx)\u001b[0m\n\u001b[1;32m     39\u001b[0m     \u001b[0;32mdef\u001b[0m \u001b[0mget_image\u001b[0m\u001b[0;34m(\u001b[0m\u001b[0mself\u001b[0m\u001b[0;34m,\u001b[0m \u001b[0midx\u001b[0m\u001b[0;34m)\u001b[0m\u001b[0;34m:\u001b[0m\u001b[0;34m\u001b[0m\u001b[0;34m\u001b[0m\u001b[0m\n\u001b[1;32m     40\u001b[0m         \u001b[0;34m\"\"\"Returns the image at this index.\"\"\"\u001b[0m\u001b[0;34m\u001b[0m\u001b[0;34m\u001b[0m\u001b[0m\n\u001b[0;32m---> 41\u001b[0;31m         \u001b[0;32mreturn\u001b[0m \u001b[0mself\u001b[0m\u001b[0;34m.\u001b[0m\u001b[0mimgs\u001b[0m\u001b[0;34m[\u001b[0m\u001b[0midx\u001b[0m\u001b[0;34m]\u001b[0m\u001b[0;34m\u001b[0m\u001b[0;34m\u001b[0m\u001b[0m\n\u001b[0m\u001b[1;32m     42\u001b[0m \u001b[0;34m\u001b[0m\u001b[0m\n\u001b[1;32m     43\u001b[0m     \u001b[0;32mdef\u001b[0m \u001b[0mget_label\u001b[0m\u001b[0;34m(\u001b[0m\u001b[0mself\u001b[0m\u001b[0;34m,\u001b[0m \u001b[0midx\u001b[0m\u001b[0;34m)\u001b[0m\u001b[0;34m:\u001b[0m\u001b[0;34m\u001b[0m\u001b[0;34m\u001b[0m\u001b[0m\n",
            "\u001b[0;31mIndexError\u001b[0m: list index out of range"
          ]
        }
      ]
    },
    {
      "cell_type": "code",
      "source": [
        "# PREDICT USING FIRST LABEL\n",
        "\n",
        "predicted_label = train_set.get_label(0)\n",
        "\n",
        "test_data_dir = 'bookcover30-labels-test.csv'\n",
        "test_set = ImageDataset(img_dir, ToTensor(), test_data_dir)"
      ],
      "metadata": {
        "id": "xbi8RpUYDfb5"
      },
      "execution_count": null,
      "outputs": []
    },
    {
      "cell_type": "markdown",
      "source": [
        "## Create dataloader for training and validation set"
      ],
      "metadata": {
        "id": "sDQas_I8H550"
      }
    },
    {
      "cell_type": "code",
      "source": [
        "validation_split = 0.10\n",
        "dataset_size = len(dset)\n",
        "indices = list(range(dataset_size))\n",
        "split = int(np.floor(validation_split * dataset_size))\n",
        "\n",
        "np.random.shuffle(indices)\n",
        "train_indices, val_indices = indices[split:], indices[:split]\n",
        "\n",
        "# Creating PT data samplers and loaders:\n",
        "train_sampler = SubsetRandomSampler(train_indices)\n",
        "valid_sampler = SubsetRandomSampler(val_indices)"
      ],
      "metadata": {
        "id": "fcMMs5fJG4L-"
      },
      "execution_count": null,
      "outputs": []
    },
    {
      "cell_type": "code",
      "source": [
        "train_dataloader = DataLoader(dset, batch_size=32, sampler=train_sampler)\n",
        "valid_dataloader = DataLoader(dset, batch_size=32, sampler=valid_sampler)"
      ],
      "metadata": {
        "id": "hBSGxa93JPu0"
      },
      "execution_count": null,
      "outputs": []
    },
    {
      "cell_type": "markdown",
      "source": [
        "**BASELINE MODEL:**"
      ],
      "metadata": {
        "id": "sNa-VfyTDf-A"
      }
    },
    {
      "cell_type": "markdown",
      "source": [
        "**PRELIMINARY EXPERIMENT:**"
      ],
      "metadata": {
        "id": "wPFmJNVVDj1J"
      }
    },
    {
      "cell_type": "code",
      "source": [
        "import torch.nn as nn\n",
        "import torch.nn.functional as F\n",
        "\n",
        "class Model(torch.nn.Module):\n",
        "    def __init__(self):\n",
        "        super(Model, self).__init__()\n",
        "        self.conv1 = nn.Conv2d(3,10,5)    # 224 x 224 x  3 > 220 x 220 x 10\n",
        "        self.pool1 = nn.MaxPool2d(2,2)    # 220 x 220 x 10 > 110 x 110 x 10\n",
        "        self.conv2 = nn.Conv2d(10,20,5)   # 110 x 110 x 10 > 106 x 106 x 20\n",
        "        self.pool2 = nn.MaxPool2d(2,2)    # 106 x 106 x 20 >  53 x  53 x 20\n",
        "\n",
        "        self.conv3 = nn.Conv2d(20,30,6)   #  53 x  61 x 20 >  56 x  56 x 30\n",
        "        self.pool3 = nn.MaxPool2d(2,2)    #  56 x  56 x 30 >  28 x  28 x 30\n",
        "        self.conv4 = nn.Conv2d(30,30,5)   #  28 x  28 x 30 >  24 x  24 x 30\n",
        "        self.pool4 = nn.MaxPool2d(2,2)    #  24 x  24 x 30 >  12 x  12 x 30 (=4320)\n",
        "\n",
        "        self.fc1 = nn.Linear(4320,700)    #      4320     >      700\n",
        "        self.fc2 = nn.Linear(700,70)      #       700     >       70\n",
        "        self.fc3 = nn.Linear(70,1)        #        70     >        1\n",
        "\n",
        "        # define your layers\n",
        "\n",
        "    def forward(self, x):\n",
        "        # run your data through the layers\n",
        "        x = self.pool1(F.relu(self.conv1(x)))\n",
        "        x = self.pool2(F.relu(self.conv2(x)))\n",
        "        x = self.pool3(F.relu(self.conv3(x)))\n",
        "        x = self.pool4(F.relu(self.conv4(x)))\n",
        "        x = x.view(-1, 4320)\n",
        "        x = self.fc2(F.relu(self.fc1(x)))\n",
        "        x = self.fc3(F.relu(x))\n",
        "        return x.squeeze()"
      ],
      "metadata": {
        "id": "I1c1YcJlCIqO"
      },
      "execution_count": null,
      "outputs": []
    },
    {
      "cell_type": "code",
      "source": [],
      "metadata": {
        "id": "Hlx4bSmTDVol"
      },
      "execution_count": null,
      "outputs": []
    }
  ]
}